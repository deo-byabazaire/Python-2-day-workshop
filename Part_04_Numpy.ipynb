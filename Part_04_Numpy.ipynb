{
 "cells": [
  {
   "cell_type": "markdown",
   "metadata": {
    "colab_type": "text",
    "id": "view-in-github"
   },
   "source": [
    "<a href=\"https://colab.research.google.com/github/WPSYG/Python-2-day-workshop/blob/master/Part_04_Numpy.ipynb\" target=\"_parent\"><img src=\"https://colab.research.google.com/assets/colab-badge.svg\" alt=\"Open In Colab\"/></a>"
   ]
  },
  {
   "cell_type": "markdown",
   "metadata": {
    "colab_type": "text",
    "id": "FCt26ccOunrW"
   },
   "source": [
    "<img src=\"https://raw.githubusercontent.com/WPSYG/Python-2-day-workshop/master/images/logo_color_v1.jpeg?token=AIW35UFEDY4NZV2BTI6NYPS7HQ4XM\">"
   ]
  },
  {
   "cell_type": "markdown",
   "metadata": {
    "colab_type": "text",
    "id": "GDLup0Di5azm"
   },
   "source": [
    "# Numpy Arrays For Python \n"
   ]
  },
  {
   "cell_type": "markdown",
   "metadata": {
    "colab_type": "text",
    "id": "U0wr0Oqim0Re"
   },
   "source": [
    "In python, there are a lot of extension packages used for different purposes and operations. NumPy happens to be one of the commonly used extension package for multi-dimensional arrays. NumPy is designed for scientific computations. ie. it is very convenient to use. It is sometimes known as array oriented computing. In our discussion today, we shall look at NumPy array in general. I know some of you may have used NumPy array before, such people might consider this lesson a revision for them. On the contary, those who have not should relax, and enjoy the lesson because it is going to be interractive and interesting.\n",
    "\n",
    "**Outcome Of Session:** By the end of the session learners will be able to;\n",
    "* Know how to create array and use function arrays to create arrays. i.e, arange, zeros, ones , diag etc.\n",
    "* Know the shape of the array using array.shape and use slicing to obtain different views of the array( array[::2]).\n",
    "* Adjust the shape of the array using reshape or flatten it with ravel.\n",
    "* Know how to perform operations on arrays such as add, subtract, multiply etc and find the mean or max of arrays (array.max(), array.mean()).\n",
    "* Also perform some possible advanced operation such as plot 1-D, 2-D(image) arrays .\n",
    "\n",
    "**Source:** For further readings you can visit numpy.org or download the following books( A Pratical Introduction to Python Programming by Heinold and Dan Bader-Python Tricks: A Buffet of Awesome Python Features).\n",
    "\n",
    "**NumPy Array**:\n",
    "* Python modules designed for scientific computations\n",
    "*  serves as containers:list (costless insertion and append)\n",
    "* Helpful to perform linear algebra and generate random numbers\n",
    "* Used to represent vectors and matrixs.\n",
    "\n",
    "**Why is it useful**: The simple answer to this question is that it creates memory-efficient containers that provides fast numerical operations.\n",
    "\n",
    "Since Numpy is a built-in package in python, one needs to import using the command line below **import numpy as np**. The **np** can be anything, it can be **as**, **ap** or **pk** but **np** remind as of \n",
    "using numpy. It is just for convenient sake.\n",
    "\n"
   ]
  },
  {
   "cell_type": "code",
   "execution_count": null,
   "metadata": {
    "colab": {},
    "colab_type": "code",
    "id": "dslyTP32tUQh"
   },
   "outputs": [],
   "source": [
    "import numpy as np"
   ]
  },
  {
   "cell_type": "markdown",
   "metadata": {
    "colab_type": "text",
    "id": "vF5DxJzNu_gY"
   },
   "source": [
    "## Creating Arrays: 1-D, 2-D,... \n",
    "\n",
    "To create a 1-dimensional array, one consider to create a list **[1,2,3]** and add **np.array()**, i.e.**np.array([1,2,3]).** Similarly, to create **2-D**, create a list with two rows (first row and second row). i.e **[3,5,4],[7,8,10]**, put them into a bigger list **[[3,5,4],[7,8,10]]** and add **numpy.array([[3,5,4],[7,4,10]]).** We demonstrate these in the code."
   ]
  },
  {
   "cell_type": "code",
   "execution_count": null,
   "metadata": {
    "colab": {
     "base_uri": "https://localhost:8080/",
     "height": 34
    },
    "colab_type": "code",
    "id": "Rq4s4fvcwsbu",
    "outputId": "927ee39e-510b-44df-eae6-cb757919cc1e"
   },
   "outputs": [
    {
     "data": {
      "text/plain": [
       "array([1, 2, 3])"
      ]
     },
     "execution_count": 5,
     "metadata": {
      "tags": []
     },
     "output_type": "execute_result"
    }
   ],
   "source": [
    "#creating 1-D array\n",
    "import numpy as np\n",
    "y = np.array([1,2,3])\n",
    "y"
   ]
  },
  {
   "cell_type": "code",
   "execution_count": null,
   "metadata": {
    "colab": {
     "base_uri": "https://localhost:8080/",
     "height": 34
    },
    "colab_type": "code",
    "id": "yQ0ZOl08xRZr",
    "outputId": "fca84212-7f37-4c1e-c0f1-267aea605328"
   },
   "outputs": [
    {
     "data": {
      "text/plain": [
       "(3,)"
      ]
     },
     "execution_count": 6,
     "metadata": {
      "tags": []
     },
     "output_type": "execute_result"
    }
   ],
   "source": [
    "y.shape"
   ]
  },
  {
   "cell_type": "code",
   "execution_count": null,
   "metadata": {
    "colab": {
     "base_uri": "https://localhost:8080/",
     "height": 34
    },
    "colab_type": "code",
    "id": "gV-aVEEnxYLS",
    "outputId": "a08f89bb-2363-4794-d477-8b0df709ab47"
   },
   "outputs": [
    {
     "data": {
      "text/plain": [
       "1"
      ]
     },
     "execution_count": 39,
     "metadata": {
      "tags": []
     },
     "output_type": "execute_result"
    }
   ],
   "source": [
    "y.ndim"
   ]
  },
  {
   "cell_type": "code",
   "execution_count": null,
   "metadata": {
    "colab": {
     "base_uri": "https://localhost:8080/",
     "height": 34
    },
    "colab_type": "code",
    "id": "tKZcFrQXxcDd",
    "outputId": "e977731e-21de-48e8-9440-482f1c3daede"
   },
   "outputs": [
    {
     "data": {
      "text/plain": [
       "3"
      ]
     },
     "execution_count": 40,
     "metadata": {
      "tags": []
     },
     "output_type": "execute_result"
    }
   ],
   "source": [
    "len(y)"
   ]
  },
  {
   "cell_type": "code",
   "execution_count": null,
   "metadata": {
    "colab": {
     "base_uri": "https://localhost:8080/",
     "height": 51
    },
    "colab_type": "code",
    "id": "U0DSEDJ7xkob",
    "outputId": "68080b6c-7aab-49fc-e6be-87bbd9bd30e6"
   },
   "outputs": [
    {
     "data": {
      "text/plain": [
       "array([[ 3,  5,  4],\n",
       "       [ 7,  4, 10]])"
      ]
     },
     "execution_count": 44,
     "metadata": {
      "tags": []
     },
     "output_type": "execute_result"
    }
   ],
   "source": [
    "#creating  2-D array\n",
    "import numpy as np\n",
    "z = np.array([[3,5,4],[7,4,10]])\n",
    "z"
   ]
  },
  {
   "cell_type": "code",
   "execution_count": null,
   "metadata": {
    "colab": {
     "base_uri": "https://localhost:8080/",
     "height": 34
    },
    "colab_type": "code",
    "id": "FRVI37MhyO3A",
    "outputId": "ea5a98dc-89f9-40cf-9618-f9f87c6f71f4"
   },
   "outputs": [
    {
     "data": {
      "text/plain": [
       "(2, 3)"
      ]
     },
     "execution_count": 46,
     "metadata": {
      "tags": []
     },
     "output_type": "execute_result"
    }
   ],
   "source": [
    "z.shape"
   ]
  },
  {
   "cell_type": "code",
   "execution_count": null,
   "metadata": {
    "colab": {},
    "colab_type": "code",
    "id": "ebet30ZvyYDc"
   },
   "outputs": [],
   "source": [
    "# Exercise: Create a simple two dimensional array. First redo the example above and then create your own with\n",
    "# odd numbers counting backwards on the first row and even numbers on the second.\n",
    "# find the shape, ndim and len() of your array created. Note that len() of 2-D gives only the size of the first\n",
    "# dimension.\n"
   ]
  },
  {
   "cell_type": "markdown",
   "metadata": {
    "colab_type": "text",
    "id": "1V5h7RnAzuAi"
   },
   "source": [
    "# Functions for creating arrays\n",
    "\n",
    " The following functions help sometimes to prevent entering arrays manually. These include arange(), linspace(), ones(), diag(), zeros() etc. For a linspace() and arange() functions, we may have **numpy.linspace(start, end, step)**, **numpy.arange(number)** or **numpy.arange(start,end,step)**. With numpy.linspace(start, end, step), step gives the number of divisions between the end and start which will include the end and start or one can use **numpy.linspace(start, end, endpoint=False)** to exclude the end point from the interval. We note that python excludes the endpoint of **numpy.arange()** in all cases.  "
   ]
  },
  {
   "cell_type": "code",
   "execution_count": null,
   "metadata": {
    "colab": {
     "base_uri": "https://localhost:8080/",
     "height": 34
    },
    "colab_type": "code",
    "id": "JAq_uah73j7u",
    "outputId": "ffac9a7e-00cf-4b7c-9eb7-b73908de03a3"
   },
   "outputs": [
    {
     "data": {
      "text/plain": [
       "array([0, 1, 2, 3, 4, 5, 6, 7, 8, 9])"
      ]
     },
     "execution_count": 50,
     "metadata": {
      "tags": []
     },
     "output_type": "execute_result"
    }
   ],
   "source": [
    "#creating np.arange()\n",
    "a = np.arange(10)\n",
    "a"
   ]
  },
  {
   "cell_type": "code",
   "execution_count": null,
   "metadata": {
    "colab": {
     "base_uri": "https://localhost:8080/",
     "height": 34
    },
    "colab_type": "code",
    "id": "ZNz5up5h31RQ",
    "outputId": "a597c4cb-3833-4d27-fcca-24eeef085aef"
   },
   "outputs": [
    {
     "data": {
      "text/plain": [
       "array([1, 3, 5, 7, 9])"
      ]
     },
     "execution_count": 52,
     "metadata": {
      "tags": []
     },
     "output_type": "execute_result"
    }
   ],
   "source": [
    "p = np.arange(1,10,2) # start at 1 and step with 2\n",
    "p"
   ]
  },
  {
   "cell_type": "code",
   "execution_count": null,
   "metadata": {
    "colab": {
     "base_uri": "https://localhost:8080/",
     "height": 34
    },
    "colab_type": "code",
    "id": "-Ppp0kp14Rrr",
    "outputId": "152037a1-c555-463f-d316-51f0e2bb1846"
   },
   "outputs": [
    {
     "data": {
      "text/plain": [
       "array([0. , 0.2, 0.4, 0.6, 0.8, 1. ])"
      ]
     },
     "execution_count": 9,
     "metadata": {
      "tags": []
     },
     "output_type": "execute_result"
    }
   ],
   "source": [
    "#creating np.linspace()\n",
    "np.linspace(0,1,6)\n",
    "#np.linspace(0,1,5,endpoint=False)"
   ]
  },
  {
   "cell_type": "code",
   "execution_count": null,
   "metadata": {
    "colab": {
     "base_uri": "https://localhost:8080/",
     "height": 136
    },
    "colab_type": "code",
    "id": "2bn-ZS9E5Fbo",
    "outputId": "b964e246-96f6-4c4d-bc4e-c97d3ad3797b"
   },
   "outputs": [
    {
     "name": "stdout",
     "output_type": "stream",
     "text": [
      "[0. 0. 0. 0. 0.]\n",
      "..........................\n",
      "[[0. 0. 0.]\n",
      " [0. 0. 0.]\n",
      " [0. 0. 0.]\n",
      " [0. 0. 0.]\n",
      " [0. 0. 0.]]\n"
     ]
    }
   ],
   "source": [
    "#creating some common arrays\n",
    "zeros_vectors = np.zeros(5)\n",
    "print(zeros_vectors)\n",
    "\n",
    "print(\"..........................\")\n",
    "zeros_matrix = np.zeros((5,3)) #reminder this takes in tuples as an imput\n",
    "print(zeros_matrix)"
   ]
  },
  {
   "cell_type": "code",
   "execution_count": null,
   "metadata": {
    "colab": {
     "base_uri": "https://localhost:8080/",
     "height": 306
    },
    "colab_type": "code",
    "id": "APP3M2VZ6MA5",
    "outputId": "ef880fef-cd9c-442c-bf33-1a3ed02dd971"
   },
   "outputs": [
    {
     "name": "stdout",
     "output_type": "stream",
     "text": [
      "[[1. 1. 1.]\n",
      " [1. 1. 1.]\n",
      " [1. 1. 1.]]\n",
      "................\n",
      "[[1. 0. 0.]\n",
      " [0. 1. 0.]\n",
      " [0. 0. 1.]]\n",
      "................\n",
      "[[2 0]\n",
      " [0 2]]\n",
      "................\n",
      "[[1 0 0 0]\n",
      " [0 2 0 0]\n",
      " [0 0 3 0]\n",
      " [0 0 0 4]]\n",
      "...............\n"
     ]
    },
    {
     "data": {
      "text/plain": [
       "array([0.15861804, 0.49441632, 0.5188152 , 0.7353774 ])"
      ]
     },
     "execution_count": 88,
     "metadata": {
      "tags": []
     },
     "output_type": "execute_result"
    }
   ],
   "source": [
    "#3*np.ones(5)\n",
    "#creating array with numpy.ones(), numpy.eye(), numpy.diag()\n",
    "t = np.ones((3,3)) ; h = np.eye(3); v = np.diag((2,2)); j = np.diag(np.array([1,2,3,4])) \n",
    "print(t)\n",
    "print(\"................\")\n",
    "print(h)\n",
    "print(\"................\")\n",
    "print(v)\n",
    "print('................')\n",
    "print(j)\n",
    "print(\"...............\")\n",
    "# you can use np.random.rand() random numbers between 0 and 1\n",
    "np.random.rand(4)"
   ]
  },
  {
   "cell_type": "code",
   "execution_count": null,
   "metadata": {
    "colab": {},
    "colab_type": "code",
    "id": "LnS7I6ac9K1t"
   },
   "outputs": [],
   "source": []
  },
  {
   "cell_type": "markdown",
   "metadata": {
    "colab_type": "text",
    "id": "sKYUDMYrAtTM"
   },
   "source": [
    "**Basic data types**"
   ]
  },
  {
   "cell_type": "code",
   "execution_count": null,
   "metadata": {
    "colab": {
     "base_uri": "https://localhost:8080/",
     "height": 34
    },
    "colab_type": "code",
    "id": "FtHh0YDLA4fJ",
    "outputId": "7285451e-bdd1-43bf-d6a0-bf7740142696"
   },
   "outputs": [
    {
     "data": {
      "text/plain": [
       "dtype('float64')"
      ]
     },
     "execution_count": 86,
     "metadata": {
      "tags": []
     },
     "output_type": "execute_result"
    }
   ],
   "source": [
    "import numpy as np\n",
    "a = np.array([1,2,3,4])\n",
    "a.dtype\n",
    "b = np.array([1.0,2.0,3.7])\n",
    "#b.dtype\n",
    "# Note that numpy auto-detect the data type from the imput. The default is always a floating point\n",
    "#One can also explicitly specify the data type to use.\n",
    "c = np.array([1,2,3], dtype=float)\n",
    "c.dtype"
   ]
  },
  {
   "cell_type": "markdown",
   "metadata": {
    "colab_type": "text",
    "id": "-VIRTBqSCv5t"
   },
   "source": [
    "# Indexing and Slicing\n",
    "\n",
    "Numpy also makes indexing and slicig possible, easy and interesting. It makes items in an array easily accessible and can be assigned same as in lists. Regardless of the dimension (vector or matrix), it is easy to index and slice.\n",
    "\n",
    "When we hear indexing and slicing, we should picture a bread that has been sliced.\n",
    "\n",
    "<img src=\"https://raw.githubusercontent.com/WPSYG/Python-2-day-workshop/master/images/slicedbread.jpeg\">\n",
    "\n",
    "And so this is how we shall look at an array when we talk about slicing or indexing.\n",
    "With **1-D** array we can index a given element by its position, keeping in mind that in Python indexing start from zero (0). For a **2-D**, array indexing first specify the row of the array and the second index specify the column of the array. We use **array[0,2]** and **array[0:2]** for indexing and slicing respectively. **Note** that for a **2-D** array, indexing with just one index returns a given row. "
   ]
  },
  {
   "cell_type": "code",
   "execution_count": null,
   "metadata": {
    "colab": {
     "base_uri": "https://localhost:8080/",
     "height": 68
    },
    "colab_type": "code",
    "id": "m2P0s6gGKYd2",
    "outputId": "0d61d9f7-fd85-40ef-933c-4350fb46a08a"
   },
   "outputs": [
    {
     "name": "stdout",
     "output_type": "stream",
     "text": [
      "[0 1 2 3 4 5 6 7 8 9]\n",
      ".............\n"
     ]
    },
    {
     "data": {
      "text/plain": [
       "array([0, 1])"
      ]
     },
     "execution_count": 108,
     "metadata": {
      "tags": []
     },
     "output_type": "execute_result"
    }
   ],
   "source": [
    "import numpy as np \n",
    "a = np.arange(10)\n",
    "print(a)\n",
    "print(\".............\")\n",
    "a[0], a[2], a[-1] \n",
    "#a[0:2]\n",
    "#a\n",
    "#a[::2] # return all digits with step of 2\n",
    "#a[2:9:3] # start: stop: step"
   ]
  },
  {
   "cell_type": "code",
   "execution_count": null,
   "metadata": {
    "colab": {
     "base_uri": "https://localhost:8080/",
     "height": 34
    },
    "colab_type": "code",
    "id": "QPCok7-ARmRQ",
    "outputId": "eeefad23-be57-4a89-b41b-3cdc8e8a9172"
   },
   "outputs": [
    {
     "data": {
      "text/plain": [
       "array([9, 8, 7, 6, 5, 4, 3, 2, 1, 0])"
      ]
     },
     "execution_count": 93,
     "metadata": {
      "tags": []
     },
     "output_type": "execute_result"
    }
   ],
   "source": [
    "# for reversing we can use a[::-1]\n",
    "a[::-1]"
   ]
  },
  {
   "cell_type": "markdown",
   "metadata": {
    "colab_type": "text",
    "id": "1kG_qUE902Ee"
   },
   "source": [
    "**2-D Indexing and Slicing**"
   ]
  },
  {
   "cell_type": "code",
   "execution_count": null,
   "metadata": {
    "colab": {
     "base_uri": "https://localhost:8080/",
     "height": 102
    },
    "colab_type": "code",
    "id": "p3XTOTuHSK44",
    "outputId": "2e31da1f-65e4-423f-aee1-8b1ec49ee09b"
   },
   "outputs": [
    {
     "name": "stdout",
     "output_type": "stream",
     "text": [
      "[[0 0 0]\n",
      " [0 1 0]\n",
      " [0 0 2]]\n",
      "............\n"
     ]
    },
    {
     "data": {
      "text/plain": [
       "1"
      ]
     },
     "execution_count": 101,
     "metadata": {
      "tags": []
     },
     "output_type": "execute_result"
    }
   ],
   "source": [
    "# 2-D indexing and slicing\n",
    "# Note that for multi-dimensional arrays, indexing are tuples of integers.\n",
    "a = np.diag(np.arange(3))\n",
    "print(a)\n",
    "print(\"............\")\n",
    "# the first interger 1 indicate row 1, counting from 0, 1,2,...and  second 1 indicate column 1\n",
    "a[1,1]\n",
    "\n",
    "# Exercise: use indexing to assign 19 t0 the the second row and first column.\n"
   ]
  },
  {
   "cell_type": "code",
   "execution_count": null,
   "metadata": {
    "colab": {
     "base_uri": "https://localhost:8080/",
     "height": 68
    },
    "colab_type": "code",
    "id": "LRWPevEiVT_7",
    "outputId": "2b26168a-501b-4082-c3e0-2b94255b5538"
   },
   "outputs": [
    {
     "name": "stdout",
     "output_type": "stream",
     "text": [
      "[[1 2 3]\n",
      " [4 5 6]]\n"
     ]
    },
    {
     "data": {
      "text/plain": [
       "array([2, 5])"
      ]
     },
     "execution_count": 106,
     "metadata": {
      "tags": []
     },
     "output_type": "execute_result"
    }
   ],
   "source": [
    "#2-D\n",
    "x = np.array([[1,2,3],[4,5,6]])\n",
    "print(x)\n",
    "x[:,1] # returns the first column of the array"
   ]
  },
  {
   "cell_type": "code",
   "execution_count": null,
   "metadata": {
    "colab": {
     "base_uri": "https://localhost:8080/",
     "height": 153
    },
    "colab_type": "code",
    "id": "lSyxIqwwaNgZ",
    "outputId": "42da8eda-ece7-47d4-9e97-29ecbe5d4a45"
   },
   "outputs": [
    {
     "name": "stdout",
     "output_type": "stream",
     "text": [
      "[[ 0  1  2  3  4  5]\n",
      " [10 11 12 13 14 15]\n",
      " [20 21 22 23 24 25]\n",
      " [30 31 32 33 34 35]\n",
      " [40 41 42 43 44 45]\n",
      " [50 51 52 53 54 55]]\n"
     ]
    },
    {
     "data": {
      "text/plain": [
       "array([[20, 22, 24],\n",
       "       [40, 42, 44]])"
      ]
     },
     "execution_count": 119,
     "metadata": {
      "tags": []
     },
     "output_type": "execute_result"
    }
   ],
   "source": [
    "w = np.arange(6) + np.arange(0, 51, 10)[:, np.newaxis]\n",
    "print(w)\n",
    "w[0, 3:5] # locates the entire index zero row, identify the 3rd col. and list all element stops before 5.\n",
    "\n",
    "w[4:, 4:] # identify 5th row and list all, identify 5th coln. list all \n",
    "\n",
    "w[:, 2] # identify the 3rd coln and list all element in each row.\n",
    "\n",
    "w[2::2, ::2] # identify the 3rd row and step by 2, identify all coln and in each coln step by 2."
   ]
  },
  {
   "cell_type": "code",
   "execution_count": null,
   "metadata": {
    "colab": {
     "base_uri": "https://localhost:8080/",
     "height": 34
    },
    "colab_type": "code",
    "id": "9gHPNYvdj77f",
    "outputId": "f6771e31-8321-4dd9-cf67-18021f763421"
   },
   "outputs": [
    {
     "data": {
      "text/plain": [
       "array([[50, 51, 52, 53, 54, 55]])"
      ]
     },
     "execution_count": 133,
     "metadata": {
      "tags": []
     },
     "output_type": "execute_result"
    }
   ],
   "source": [
    "#w[:2, 4:]\n",
    "#w[-1:, ]"
   ]
  },
  {
   "cell_type": "markdown",
   "metadata": {
    "colab_type": "text",
    "id": "gI61VL1XcsE1"
   },
   "source": [
    "**Combining assignment and slicing**"
   ]
  },
  {
   "cell_type": "code",
   "execution_count": null,
   "metadata": {
    "colab": {
     "base_uri": "https://localhost:8080/",
     "height": 68
    },
    "colab_type": "code",
    "id": "0bfzijoKcpdR",
    "outputId": "abc2e0ca-7d58-413a-9594-d3a73feae55d"
   },
   "outputs": [
    {
     "name": "stdout",
     "output_type": "stream",
     "text": [
      "[ 0  1  2  3  4 10 10 10 10 10]\n",
      ".........\n",
      "[0 1 2 3 4 4 3 2 1 0]\n"
     ]
    }
   ],
   "source": [
    "import numpy as np \n",
    "#we assign 10 to all the digit after 5\n",
    "a = np.arange(10)\n",
    "a[5:] =10     \n",
    "print(a)\n",
    "\n",
    "#we assign backwards digits from 0 to 4 to a after 5.\n",
    "b = np.arange(5)\n",
    "a[5:] = b[::-1]\n",
    "print(\".........\") \n",
    "print(a)"
   ]
  },
  {
   "cell_type": "markdown",
   "metadata": {
    "colab_type": "text",
    "id": "ZOscDCxJgM-a"
   },
   "source": [
    "**Exercise:** \n",
    "1. Try the different flavours of slicing, using start, end and step: starting from linspace, try to obtain odd numbers counting backwards and even numbers counting forward.\n",
    "\n",
    "2. Using *np.arange(6) + np.arange(0,51,10) [:, np.newaxis]* reproduce the slicies in the **W** above. And write slice to locate [[4,5],[14,15]] and [ 50, 51, 52, 54, 55]."
   ]
  },
  {
   "cell_type": "markdown",
   "metadata": {
    "colab_type": "text",
    "id": "p03-5RUjlkFC"
   },
   "source": [
    " **Array Shape Manipulation "
   ]
  },
  {
   "cell_type": "code",
   "execution_count": null,
   "metadata": {
    "colab": {
     "base_uri": "https://localhost:8080/",
     "height": 136
    },
    "colab_type": "code",
    "id": "xAZf9rE7zwPN",
    "outputId": "91cb7373-ec08-4d47-80a8-faa991524389"
   },
   "outputs": [
    {
     "name": "stdout",
     "output_type": "stream",
     "text": [
      "[[1 2 3]\n",
      " [4 5 6]]\n",
      "...........\n",
      "[0 1 2 3 0 0]\n",
      "...........\n",
      "[[3 4 5]\n",
      " [1 1 2]]\n"
     ]
    }
   ],
   "source": [
    "#flattening\n",
    "a = np.array([[1,2,3],[4,5,6]])\n",
    "a.ravel(); a.flatten()\n",
    "\n",
    "#reshaping\n",
    "a.shape \n",
    "b = a.ravel()\n",
    "b = b.reshape((2,3))\n",
    "print(b)\n",
    "print('...........')\n",
    "#resize\n",
    "k= np.arange(4)\n",
    "k.resize((6))\n",
    "print(k)\n",
    "print(\"...........\")\n",
    "\n",
    "#sorting: note that sorting is done along axis in numpy\n",
    "n = np.array([[4,3,5],[1,2,1]])\n",
    "m = np.sort(n, axis=1)\n",
    "print(m)\n",
    "\n",
    "n.sort(axis=1) #this sort each row separately."
   ]
  },
  {
   "cell_type": "markdown",
   "metadata": {
    "colab_type": "text",
    "id": "yWOHJIpzqIxv"
   },
   "source": [
    "**Arithmatic operations on arrays:**"
   ]
  },
  {
   "cell_type": "code",
   "execution_count": null,
   "metadata": {
    "colab": {
     "base_uri": "https://localhost:8080/",
     "height": 102
    },
    "colab_type": "code",
    "id": "oltQK8V9rDQd",
    "outputId": "4eb0f0b6-ce8e-4a09-915f-3d3dae2a3b36"
   },
   "outputs": [
    {
     "name": "stdout",
     "output_type": "stream",
     "text": [
      "[2 3 4 5]\n",
      "...........\n",
      "[2. 2. 2. 2.]\n",
      "...........\n",
      "[ 2  3  6 13 28]\n"
     ]
    }
   ],
   "source": [
    "d = np.array([1,2,3,4]) \n",
    "f = d+1 # adds 1 t0 each element\n",
    "#f = 2**d \n",
    "print(f)\n",
    "print(\"...........\")\n",
    "\n",
    "l = np.ones(4) +1 \n",
    "print(l)\n",
    "print(\"...........\")\n",
    "j = np.arange(5)\n",
    "r = 2**(j + 1)-j\n",
    "print(r)"
   ]
  },
  {
   "cell_type": "markdown",
   "metadata": {
    "colab_type": "text",
    "id": "HPYng5H_tU1v"
   },
   "source": [
    "## Advanced operations with Numpy\n",
    "\n",
    "Numpy can be used in many advanced Python programming skills. These may include loading data files, plotting simple 1-D and 2-D (images) arrays etc. Here we shall consider ploting with 1-D array and 2-D array."
   ]
  },
  {
   "cell_type": "code",
   "execution_count": null,
   "metadata": {
    "colab": {
     "base_uri": "https://localhost:8080/",
     "height": 282
    },
    "colab_type": "code",
    "id": "MplpG8Z6u4KD",
    "outputId": "0c8b0a60-0587-4b06-a716-009398a758d5"
   },
   "outputs": [
    {
     "data": {
      "text/plain": [
       "[<matplotlib.lines.Line2D at 0x7f367e754898>]"
      ]
     },
     "execution_count": 30,
     "metadata": {
      "tags": []
     },
     "output_type": "execute_result"
    },
    {
     "data": {
      "image/png": "[encoded data removed]",
      "text/plain": [
       "<Figure size 432x288 with 1 Axes>"
      ]
     },
     "metadata": {
      "needs_background": "light",
      "tags": []
     },
     "output_type": "display_data"
    }
   ],
   "source": [
    "import numpy as np\n",
    "import matplotlib.pyplot as plt\n",
    "\n",
    "x = np.linspace(0,3,20)\n",
    "q = np.linspace(0,9,20)\n",
    "plt.plot(x,q)\n",
    "plt.plot(x,q, \"o\")\n"
   ]
  },
  {
   "cell_type": "code",
   "execution_count": null,
   "metadata": {
    "colab": {
     "base_uri": "https://localhost:8080/",
     "height": 283
    },
    "colab_type": "code",
    "id": "ROiKAsBjvv3q",
    "outputId": "69ad684b-d5e5-44b0-d12d-7109a6f7b025"
   },
   "outputs": [
    {
     "data": {
      "text/plain": [
       "<matplotlib.colorbar.Colorbar at 0x7f367ddae518>"
      ]
     },
     "execution_count": 34,
     "metadata": {
      "tags": []
     },
     "output_type": "execute_result"
    },
    {
     "data": {
      "image/png": "[encoded data removed]",
      "text/plain": [
       "<Figure size 432x288 with 2 Axes>"
      ]
     },
     "metadata": {
      "needs_background": "light",
      "tags": []
     },
     "output_type": "display_data"
    }
   ],
   "source": [
    "import numpy as np\n",
    "import matplotlib.pyplot as plt\n",
    "\n",
    "img = np.random.rand(30,30)\n",
    "plt.imshow(img, cmap=plt.cm.gist_rainbow_r)\n",
    "plt.colorbar()\n",
    "#plt.show"
   ]
  },
  {
   "cell_type": "markdown",
   "metadata": {
    "colab_type": "text",
    "id": "D4DZAE2yAvyH"
   },
   "source": [
    "> <p style=\"color:red\">We need some exercises here, with correction provided in hidden cell that can be clicked to see the solution (you can google about this feature in notebook</p>"
   ]
  },
  {
   "cell_type": "markdown",
   "metadata": {
    "colab_type": "text",
    "id": "f6xhIJkwuzAt"
   },
   "source": [
    "___\n",
    "**Course Content Creators**: Sokhar Samb, Foutse, Deborah D Kanubala, Faith Benson, Salomey Osei, Yolande Ngueabou, Deo Byabazaire, [Bernard Osei](https://www.linkedin.com/in/bernard-osei/), Elkanah Nyabuto.\n",
    "\n",
    "\n",
    "\n",
    "\n",
    "**Course Reviewer:** [Salomon Kabongo](https://twitter.com/SalomonKabongo1)"
   ]
  }
 ],
 "metadata": {
  "colab": {
   "include_colab_link": true,
   "name": "Part 04 : Numpy.ipynb",
   "provenance": []
  },
  "kernelspec": {
   "display_name": "Python 3",
   "language": "python",
   "name": "python3"
  },
  "language_info": {
   "codemirror_mode": {
    "name": "ipython",
    "version": 3
   },
   "file_extension": ".py",
   "mimetype": "text/x-python",
   "name": "python",
   "nbconvert_exporter": "python",
   "pygments_lexer": "ipython3",
   "version": "3.7.3"
  }
 },
 "nbformat": 4,
 "nbformat_minor": 1
}
