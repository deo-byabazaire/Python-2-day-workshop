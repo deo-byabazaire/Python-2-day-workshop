{
 "cells": [
  {
   "cell_type": "markdown",
   "metadata": {},
   "source": [
    "<a href=\"https://colab.research.google.com/github/WPSYG/Python-2-day-workshop/blob/master/Part_03_Writing_Functions_and_loops.ipynb\" target=\"_parent\"><img src=\"https://colab.research.google.com/assets/colab-badge.svg\" alt=\"Open In Colab\"/></a>"
   ]
  },
  {
   "cell_type": "markdown",
   "metadata": {
    "colab_type": "text",
    "id": "-er6IUdUt3k3"
   },
   "source": [
    "<img src=\"https://raw.githubusercontent.com/WPSYG/Python-2-day-workshop/master/images/logo_color_v1.jpeg?token=AIW35UAKBBELC5SYDUECSYC7HQ4FW\">"
   ]
  },
  {
   "cell_type": "markdown",
   "metadata": {
    "colab_type": "text",
    "id": "eYVU4vuN5SsW"
   },
   "source": [
    "# Writing Functions and  Loops\n",
    "In Python, there are built-in functions which you may have probably come across. An example is the **print()** function. However, there are often many times when you need to write your own function to help you solve a problem. We call this **User defined functions**\n",
    "\n",
    "At this point, you may be wondering what a function is in the first place?, When and why do I need it?, and most importantly how do we create one. These are very good questions to be thinking about now, but do not worry because WPSYG will digest everything for you soon.\n",
    "\n",
    "**So what is a function?**\n",
    "\n",
    "A function simply takes a set of inputs, process them and then produces some output. For instance, I  can have a function that takes your height and weight as input, and then gives your body mass index (BMI) as output. Inside the function, the height and weight are combined to produce the BMI. An already familiar function which we mentioned earlier is the *print()* function. This function takes some statements as input, and then  prints them out.\n",
    "\n",
    "Here are some examples:\n"
   ]
  },
  {
   "cell_type": "code",
   "execution_count": null,
   "metadata": {
    "colab": {
     "base_uri": "https://localhost:8080/",
     "height": 52
    },
    "colab_type": "code",
    "id": "b_lrwHi3n5Y9",
    "outputId": "7e2e7a6a-4bb9-40ca-e225-b360ee941689"
   },
   "outputs": [
    {
     "name": "stdout",
     "output_type": "stream",
     "text": [
      "I love Women Promoting Science to the Younger Generation\n",
      "8\n"
     ]
    }
   ],
   "source": [
    "print(\"I love Women Promoting Science to the Younger Generation\")\n",
    "print(3+5) "
   ]
  },
  {
   "cell_type": "markdown",
   "metadata": {
    "colab_type": "text",
    "id": "Zmyj9xmloIXu"
   },
   "source": [
    "The *print()* function takes the text we give as input, and prints it exactly the way we want it. But then, did you notice what happened when we asked Python to print (3+5)? it rather printed 8. Why did Python do this? Discuss with your peers and TA.\n"
   ]
  },
  {
   "cell_type": "markdown",
   "metadata": {
    "colab_type": "text",
    "id": "RiVbOvhtZw2Z"
   },
   "source": [
    "**Why do we need functions?**\n",
    "\n",
    "It may not yet be clear why it is worth the trouble learning about functions, but the following reasons will hopefully cheer you up.\n",
    "\n",
    "1 - Creating a new function gives you an opportunity to name a group of statements, thus making your program easier to read, understand and debug.\n",
    "\n",
    "2 - Functions make your program smaller by eliminating repetitive codes, in such a way that if you want to make a small change, you only have to make it in one place.\n",
    "\n",
    "3 - Dividing a long program into functions allows you to debug different parts one at a time, and then assembling this small parts into a whole workable unit."
   ]
  },
  {
   "cell_type": "markdown",
   "metadata": {
    "colab_type": "text",
    "id": "Y3uLmm42ZaVH"
   },
   "source": [
    "**How to create a function**"
   ]
  },
  {
   "cell_type": "markdown",
   "metadata": {
    "colab_type": "text",
    "id": "sQRIFzzWf1cv"
   },
   "source": [
    "**def Statements**\n",
    "\n",
    "The syntax for creating a function is as follows;\n"
   ]
  },
  {
   "cell_type": "code",
   "execution_count": null,
   "metadata": {
    "colab": {},
    "colab_type": "code",
    "id": "YPqxD_MShLol"
   },
   "outputs": [],
   "source": [
    "def name_of_function(arg1, arg2): # step 1\n",
    "    '''\n",
    "    This is where the function's Document String (docstring) goes  # step 2\n",
    "    '''\n",
    "    # Do stuff here             # step 3\n",
    "    # Return desired result"
   ]
  },
  {
   "cell_type": "markdown",
   "metadata": {
    "colab_type": "text",
    "id": "DsLMTLHphprq"
   },
   "source": [
    "In step 1, we begin with *def* then a space followed by the name of the function. Next come a pair of parentheses with a number of arguments separated by a comma. After this, you put a colon.\n",
    "\n",
    "**Note:** \n",
    "\n",
    "- Be careful with the names you give to your functions. try to keep the names relevant, and make sure that they do not have the sames as *built-in functions in Python*.\n",
    "- In step 1, the arguments in your parantheses are the inputs for your function. You'll be able to use these inputs in your function and reference them, as we shall see in some examples.\n",
    "\n",
    "In step 2, you have the docstring. This step is important because this is where you put the description of your function. It is a very good practice to put them as it helps you and other people easily understand the code you write.\n",
    "\n",
    "Step 3 is the most important part because this is actually where you start writing your codes. What you have to keep in mind is that, for your codes to run correctly, the block of statements written here must be indented.\n",
    "\n",
    "Waooh! Great! I am sure you have learned quite alot. I believe the best way to grasp all these, is by going through some examples."
   ]
  },
  {
   "cell_type": "markdown",
   "metadata": {
    "colab_type": "text",
    "id": "n7BkyR2IozlT"
   },
   "source": [
    "**Examples**\n",
    "\n",
    "1- **A simple Hello message**"
   ]
  },
  {
   "cell_type": "code",
   "execution_count": null,
   "metadata": {
    "colab": {
     "base_uri": "https://localhost:8080/",
     "height": 51
    },
    "colab_type": "code",
    "id": "yPHUdhyxpzFl",
    "outputId": "7668442a-0d30-493b-97a1-e197c45270a6"
   },
   "outputs": [
    {
     "name": "stdout",
     "output_type": "stream",
     "text": [
      "Hello friends,\n",
      "Welcome to the introductory Python course offered by WPSYG, we are happy to see you.\n"
     ]
    }
   ],
   "source": [
    "mymessage= 'Welcome to the introductory Python course offered by WPSYG, we are happy to see you.'\n",
    "myname='friends'\n",
    "\n",
    "def intro(name, message):     # Here is the function defintion\n",
    "  print('Hello ' + name + ',' + '\\n' + message)  # Here, we are telling the function what to do     \n",
    "\n",
    "intro(myname, mymessage) # This line calls the function"
   ]
  },
  {
   "cell_type": "markdown",
   "metadata": {
    "colab_type": "text",
    "id": "wXgFmNYhtmh6"
   },
   "source": [
    "In this example, our function name is *intro*, and it takes two inputs variables ( or arguments ) which are *name* and *message*. Its role is to print a welcome message as seen above.\n",
    "\n",
    "Now, after creating the function and telling it specifically what to do, we now need to call the function inorder to check whether it does what it is expected to do.\n",
    "\n"
   ]
  },
  {
   "cell_type": "markdown",
   "metadata": {
    "colab_type": "text",
    "id": "fAImXa4j03jB"
   },
   "source": [
    "2- **A fun cooking recipe**"
   ]
  },
  {
   "cell_type": "code",
   "execution_count": null,
   "metadata": {
    "colab": {
     "base_uri": "https://localhost:8080/",
     "height": 51
    },
    "colab_type": "code",
    "id": "y5JWHjIs6H2T",
    "outputId": "cb3af196-bca1-40ad-8b34-0e22e6337d66"
   },
   "outputs": [
    {
     "name": "stdout",
     "output_type": "stream",
     "text": [
      "Put oil in a hot frying pan and add a misture of whipped onions, salt and eggs, and let it sit for few minutes.\n",
      "If the omelette has cooked to your taste, enjoy it with french bread and a cup of hot chocolate, ummh....Yummy!!\n"
     ]
    }
   ],
   "source": [
    "b=['oil','onions','salt','eggs','bread']\n",
    "def recipe(a):\n",
    "  print('Put '+ a[0] + ' in a hot frying pan and add a misture of whipped ' + a[1] + ', ' + a[2] +' and '+ a[3] + \n",
    "        ', and let it sit for few minutes.' +'\\n'+'If the omelette has cooked to your taste, ' \n",
    "        'enjoy it with french '+ a[4] +' and a cup of hot chocolate, ummh....Yummy!!')\n",
    "\n",
    "recipe(b)  "
   ]
  },
  {
   "cell_type": "markdown",
   "metadata": {
    "colab_type": "text",
    "id": "St7aJp2RJfnf"
   },
   "source": [
    "**Using return**\n",
    "\n",
    "The *return* statement allows a function to return a result that can then be stored as a variable, or used in whatever manner a user wants.\n",
    "\n",
    "To better appreciate its usefulness, let us consider the following examples.\n"
   ]
  },
  {
   "cell_type": "markdown",
   "metadata": {
    "colab_type": "text",
    "id": "AljrTd2yLqv7"
   },
   "source": [
    "**Examples**"
   ]
  },
  {
   "cell_type": "code",
   "execution_count": null,
   "metadata": {
    "colab": {
     "base_uri": "https://localhost:8080/",
     "height": 34
    },
    "colab_type": "code",
    "id": "V0bbWLauLppT",
    "outputId": "30c5778f-009f-40c6-8362-8d96de1f073d"
   },
   "outputs": [
    {
     "data": {
      "text/plain": [
       "6"
      ]
     },
     "execution_count": 27,
     "metadata": {
      "tags": []
     },
     "output_type": "execute_result"
    }
   ],
   "source": [
    "\"We define a function which multiplies any two numbers\"\n",
    "\n",
    "def times(x,y):\n",
    "  return x*y\n",
    "\n",
    "times(2,3)"
   ]
  },
  {
   "cell_type": "markdown",
   "metadata": {
    "colab_type": "text",
    "id": "crB17ZImO7rJ"
   },
   "source": [
    "You can also save the result obtained when the function is called in a variable, as shown below"
   ]
  },
  {
   "cell_type": "code",
   "execution_count": null,
   "metadata": {
    "colab": {
     "base_uri": "https://localhost:8080/",
     "height": 34
    },
    "colab_type": "code",
    "id": "kC8VJFTuPdiU",
    "outputId": "e02bcefd-b0d0-4e47-a23c-90ea483ecdb8"
   },
   "outputs": [
    {
     "name": "stdout",
     "output_type": "stream",
     "text": [
      "The product of 3.14 and 5 is 15.700000000000001\n"
     ]
    }
   ],
   "source": [
    "product= times(3.14,5)\n",
    "print(\"The product of 3.14 and 5 is\", product)"
   ]
  },
  {
   "cell_type": "markdown",
   "metadata": {
    "colab_type": "text",
    "id": "cLU2bxYhM5uP"
   },
   "source": [
    "Now, watch what happens when the function is called with different types of objects passed in "
   ]
  },
  {
   "cell_type": "code",
   "execution_count": null,
   "metadata": {
    "colab": {
     "base_uri": "https://localhost:8080/",
     "height": 35
    },
    "colab_type": "code",
    "id": "TtvDMKeENeQa",
    "outputId": "4f5c43e8-426c-4481-b928-a73e0ed32689"
   },
   "outputs": [
    {
     "data": {
      "application/vnd.google.colaboratory.intrinsic+json": {
       "type": "string"
      },
      "text/plain": [
       "'Education is a key that opens many doors! Education is a key that opens many doors! '"
      ]
     },
     "execution_count": 35,
     "metadata": {
      "tags": []
     },
     "output_type": "execute_result"
    }
   ],
   "source": [
    "times('Education is a key that opens many doors! ', 2)"
   ]
  },
  {
   "cell_type": "markdown",
   "metadata": {
    "colab_type": "text",
    "id": "A3Zribs8STyC"
   },
   "source": [
    "In the next example, we will define a function which adds any two numbers"
   ]
  },
  {
   "cell_type": "code",
   "execution_count": null,
   "metadata": {
    "colab": {},
    "colab_type": "code",
    "id": "ocUV41OGRH-e"
   },
   "outputs": [],
   "source": [
    "\"We define a function which adds two numbers\"\n",
    "\n",
    "def add_num(p,q):\n",
    "  return p + q"
   ]
  },
  {
   "cell_type": "code",
   "execution_count": null,
   "metadata": {
    "colab": {
     "base_uri": "https://localhost:8080/",
     "height": 34
    },
    "colab_type": "code",
    "id": "4m5s7SMGRhFG",
    "outputId": "86fd6a6f-4cc8-4a54-8013-cd0e3eda6850"
   },
   "outputs": [
    {
     "data": {
      "text/plain": [
       "8"
      ]
     },
     "execution_count": 39,
     "metadata": {
      "tags": []
     },
     "output_type": "execute_result"
    }
   ],
   "source": [
    "x=add_num(3,5)\n",
    "x"
   ]
  },
  {
   "cell_type": "markdown",
   "metadata": {
    "colab_type": "text",
    "id": "8PckEoVlWSG3"
   },
   "source": [
    "What happens if we input two strings?"
   ]
  },
  {
   "cell_type": "code",
   "execution_count": null,
   "metadata": {
    "colab": {
     "base_uri": "https://localhost:8080/",
     "height": 35
    },
    "colab_type": "code",
    "id": "9YbPKXOzWZfz",
    "outputId": "a635ee6f-726e-461d-dab0-c77d781c61e4"
   },
   "outputs": [
    {
     "data": {
      "application/vnd.google.colaboratory.intrinsic+json": {
       "type": "string"
      },
      "text/plain": [
       "'heartbeat'"
      ]
     },
     "execution_count": 41,
     "metadata": {
      "tags": []
     },
     "output_type": "execute_result"
    }
   ],
   "source": [
    "add_num('heart', 'beat')"
   ]
  },
  {
   "cell_type": "markdown",
   "metadata": {
    "colab_type": "text",
    "id": "z3BriqNiWwZH"
   },
   "source": [
    "In the next example, we will define a function which checks whether a number is prime or not. There are several different ways of showing this, but we will only present the 'naive' approach.\n",
    "\n",
    "This is one of the most popular questions for a Maths or computer science assignment or better still, a quite popular interview question."
   ]
  },
  {
   "cell_type": "code",
   "execution_count": null,
   "metadata": {
    "colab": {},
    "colab_type": "code",
    "id": "sLwA3f8LYRsF"
   },
   "outputs": [],
   "source": [
    "\"A function which checks whether a number is prime or not \"\n",
    "def isprime(num):\n",
    "  for n in range(2,num):\n",
    "        if num % n == 0: # checks if the modulos is zero\n",
    "            print(num,'is not prime')\n",
    "            break\n",
    "  else: # if the modulo is not equal to zero, then the number is prime.\n",
    "    print(num,'is prime!')"
   ]
  },
  {
   "cell_type": "code",
   "execution_count": null,
   "metadata": {
    "colab": {
     "base_uri": "https://localhost:8080/",
     "height": 34
    },
    "colab_type": "code",
    "id": "GdM6bLu1Z3O3",
    "outputId": "d08bc277-bc0c-4663-d6ae-d4152fa5bf3b"
   },
   "outputs": [
    {
     "name": "stdout",
     "output_type": "stream",
     "text": [
      "329 is not prime\n"
     ]
    }
   ],
   "source": [
    "isprime(329)"
   ]
  },
  {
   "cell_type": "code",
   "execution_count": null,
   "metadata": {
    "colab": {
     "base_uri": "https://localhost:8080/",
     "height": 34
    },
    "colab_type": "code",
    "id": "Td4dzTPZZ8-H",
    "outputId": "250772d7-7e29-4a15-c432-e21afa0273af"
   },
   "outputs": [
    {
     "name": "stdout",
     "output_type": "stream",
     "text": [
      "11 is prime!\n"
     ]
    }
   ],
   "source": [
    "isprime(11)"
   ]
  },
  {
   "cell_type": "markdown",
   "metadata": {
    "colab_type": "text",
    "id": "P0YK8hqNaAwV"
   },
   "source": [
    "I guess you must be having lots of questions running through your mind. If you are puzzled, and keep wondering what these *for, if* and *else* statements above mean, *keep calm, you are perfectly right to think like this*.\n",
    "\n",
    "All your worries and questioning will hopefully be cleared off in the next section.\n",
    "\n",
    "In the meantime, *Congratulations, you have learned a lot and you are making progress. So, cheer up!! :)*"
   ]
  },
  {
   "cell_type": "markdown",
   "metadata": {
    "colab_type": "text",
    "id": "nNRYWRr3Twq8"
   },
   "source": [
    "## Loops \n",
    " \n",
    "There are two types of loops in Python, for and while . We would first look at the For Loop and then later understand how to use the while loop.\n",
    "\n",
    " **1. For Loops**: Given a sequence of items or list, the for loop is used to iterate over these given sequence. And example is:"
   ]
  },
  {
   "cell_type": "code",
   "execution_count": null,
   "metadata": {
    "colab": {
     "base_uri": "https://localhost:8080/",
     "height": 104
    },
    "colab_type": "code",
    "id": "aWn4Gx0fVyzl",
    "outputId": "83ce801f-0160-4096-ac85-39a86a28c4ab"
   },
   "outputs": [
    {
     "name": "stdout",
     "output_type": "stream",
     "text": [
      "2\n",
      "4\n",
      "6\n",
      "10\n",
      "12\n"
     ]
    }
   ],
   "source": [
    "even = [2, 4, 6, 10, 12] #List of even numbers\n",
    "for num in even: # Iterate through each item in the list (even)\n",
    "    print(num) "
   ]
  },
  {
   "cell_type": "markdown",
   "metadata": {
    "colab_type": "text",
    "id": "bJxQhrZOWDBJ"
   },
   "source": [
    "Also, we can use the for loop to iterate over sequence of numbers using the range function. Surprise to see another python function here? Yes, range is also a function in built in python. "
   ]
  },
  {
   "cell_type": "code",
   "execution_count": null,
   "metadata": {
    "colab": {
     "base_uri": "https://localhost:8080/",
     "height": 87
    },
    "colab_type": "code",
    "id": "4rnDF1GzZ_Xc",
    "outputId": "a9a46b71-b2f3-440d-add0-137f3ec76ad4"
   },
   "outputs": [
    {
     "name": "stdout",
     "output_type": "stream",
     "text": [
      "1\n",
      "2\n",
      "3\n",
      "4\n"
     ]
    }
   ],
   "source": [
    "for num in range(1, 5):\n",
    "    print(num)"
   ]
  },
  {
   "cell_type": "markdown",
   "metadata": {
    "colab_type": "text",
    "id": "wz4kQA58aP-R"
   },
   "source": [
    "## **Format for writing a for loop**\n",
    "for num 1 to end():\n",
    "  >body of loop \n",
    "\n",
    "Generally, the body of the loop is executed several times based on what was indicated in the argument. The variable num assumes the value on the first iteration is start point at 1 on first iteration till it gets to the end.\n",
    "\n",
    "\n",
    "for var in iterable:\n",
    "> statement(s)\n",
    "\n",
    "\"iterable\" is a collection of objects-for example it could be a list or tuple. Whereas the statement(s) in the loop are the instruction that should be excuted for each var. However, the value of the \"var\" contuines to change after each iteration till it completes the length or items in \"iterable\". Lets see a real example in python."
   ]
  },
  {
   "cell_type": "code",
   "execution_count": null,
   "metadata": {
    "colab": {
     "base_uri": "https://localhost:8080/",
     "height": 173
    },
    "colab_type": "code",
    "id": "35plgPyciE90",
    "outputId": "46f765ab-ec8c-4ed3-9df0-f49546492520"
   },
   "outputs": [
    {
     "name": "stdout",
     "output_type": "stream",
     "text": [
      "Sokhar\n",
      "Bernard\n",
      "Yolande\n",
      "Faith\n",
      "SalomonSalomey\n",
      "Deo\n",
      "Fouste\n",
      "Elkanah\n",
      "Deborah\n"
     ]
    }
   ],
   "source": [
    "wpsyg_members= [\"Sokhar\", \"Bernard\", \"Yolande\", \"Faith\",\"Salomon\"\n",
    "                \"Salomey\",\"Deo\",\"Foutse\" ,\"Elkanah\", \"Deborah\"]\n",
    "\n",
    "for memeber in wpsyg_members:\n",
    "  print(memeber)"
   ]
  },
  {
   "cell_type": "markdown",
   "metadata": {
    "colab_type": "text",
    "id": "I3JONftEir2Y"
   },
   "source": [
    "Not everythin can be iterable in python. Integers , float or built in function are not iterable because we cannot use them in iteration. See the following examples\n"
   ]
  },
  {
   "cell_type": "code",
   "execution_count": null,
   "metadata": {
    "colab": {
     "base_uri": "https://localhost:8080/",
     "height": 35
    },
    "colab_type": "code",
    "id": "K_Wb9L2Xp3ln",
    "outputId": "9f4ee27d-1431-457a-eb2b-8aa9fc89a171"
   },
   "outputs": [
    {
     "data": {
      "text/plain": [
       "<str_iterator at 0x7fbd89562b38>"
      ]
     },
     "execution_count": 14,
     "metadata": {
      "tags": []
     },
     "output_type": "execute_result"
    }
   ],
   "source": [
    "iter(\"foobar\")\n"
   ]
  },
  {
   "cell_type": "code",
   "execution_count": null,
   "metadata": {
    "colab": {
     "base_uri": "https://localhost:8080/",
     "height": 35
    },
    "colab_type": "code",
    "id": "Fnmz6l8np9Zi",
    "outputId": "0a2cbf22-5790-420b-be90-84e36749bd3d"
   },
   "outputs": [
    {
     "data": {
      "text/plain": [
       "<list_iterator at 0x7fbd817c6ac8>"
      ]
     },
     "execution_count": 15,
     "metadata": {
      "tags": []
     },
     "output_type": "execute_result"
    }
   ],
   "source": [
    "iter([\"foo\", \"cat\", \"dog\"])"
   ]
  },
  {
   "cell_type": "code",
   "execution_count": null,
   "metadata": {
    "colab": {
     "base_uri": "https://localhost:8080/",
     "height": 201
    },
    "colab_type": "code",
    "id": "3GIHAv0dqC_8",
    "outputId": "6fe7ec4e-ae0e-441e-9912-6827eb68459a"
   },
   "outputs": [
    {
     "ename": "TypeError",
     "evalue": "ignored",
     "output_type": "error",
     "traceback": [
      "\u001b[0;31m---------------------------------------------------------------------------\u001b[0m",
      "\u001b[0;31mTypeError\u001b[0m                                 Traceback (most recent call last)",
      "\u001b[0;32m<ipython-input-16-ef50b48e4398>\u001b[0m in \u001b[0;36m<module>\u001b[0;34m()\u001b[0m\n\u001b[0;32m----> 1\u001b[0;31m \u001b[0miter\u001b[0m\u001b[0;34m(\u001b[0m\u001b[0;36m42\u001b[0m\u001b[0;34m)\u001b[0m\u001b[0;34m\u001b[0m\u001b[0;34m\u001b[0m\u001b[0m\n\u001b[0m",
      "\u001b[0;31mTypeError\u001b[0m: 'int' object is not iterable"
     ]
    }
   ],
   "source": [
    "iter(42)"
   ]
  },
  {
   "cell_type": "markdown",
   "metadata": {
    "colab_type": "text",
    "id": "Q36rKZQrq4q4"
   },
   "source": [
    "**Exercises**"
   ]
  },
  {
   "cell_type": "code",
   "execution_count": null,
   "metadata": {
    "colab": {},
    "colab_type": "code",
    "id": "IczOSs_8qX1Y"
   },
   "outputs": [],
   "source": [
    "iter(len)"
   ]
  },
  {
   "cell_type": "code",
   "execution_count": null,
   "metadata": {
    "colab": {},
    "colab_type": "code",
    "id": "M_1pcZczqbCh"
   },
   "outputs": [],
   "source": [
    "iter(3.1)"
   ]
  },
  {
   "cell_type": "code",
   "execution_count": null,
   "metadata": {
    "colab": {},
    "colab_type": "code",
    "id": "6fz9AhHuqcu2"
   },
   "outputs": [],
   "source": []
  },
  {
   "cell_type": "markdown",
   "metadata": {
    "colab_type": "text",
    "id": "IdFfTpnSqH8T"
   },
   "source": [
    "This throws an error because the int object is not iterable"
   ]
  },
  {
   "cell_type": "markdown",
   "metadata": {
    "colab_type": "text",
    "id": "mPddAUtAt_UD"
   },
   "source": [
    "___\n",
    "**Course Content Creators**: Sokhar Samb, Foutse, Deborah D Kanubala, Faith Benson, Salomey Osei, Yolande Ngueabou, Deo Byabazaire, Bernard Osei, Elkanah Nyabuto.\n",
    "\n",
    "\n",
    "\n",
    "\n",
    "**Course Reviewer:** [Salomon Kabongo](https://twitter.com/SalomonKabongo1)"
   ]
  }
 ],
 "metadata": {
  "colab": {
   "name": "Part 03: Writing Functions and loops.ipynb",
   "provenance": []
  },
  "kernelspec": {
   "display_name": "Python 3",
   "language": "python",
   "name": "python3"
  },
  "language_info": {
   "codemirror_mode": {
    "name": "ipython",
    "version": 3
   },
   "file_extension": ".py",
   "mimetype": "text/x-python",
   "name": "python",
   "nbconvert_exporter": "python",
   "pygments_lexer": "ipython3",
   "version": "3.7.3"
  }
 },
 "nbformat": 4,
 "nbformat_minor": 4
}
