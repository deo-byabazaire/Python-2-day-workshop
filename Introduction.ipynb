{
 "cells": [
  {
   "cell_type": "markdown",
   "metadata": {},
   "source": [
    "<a href=\"https://colab.research.google.com/github/WPSYG/Python-2-day-workshop/blob/master/Introduction.ipynb\" target=\"_parent\"><img src=\"https://colab.research.google.com/assets/colab-badge.svg\" alt=\"Open In Colab\"/></a>"
   ]
  },
  {
   "cell_type": "markdown",
   "metadata": {},
   "source": [
    "<img src=\"https://raw.githubusercontent.com/WPSYG/Python-2-day-workshop/master/images/logo_color_v1.jpeg?token=AIW35UCYTBEXID5PFNGZWD27HQ2MC\">"
   ]
  },
  {
   "cell_type": "markdown",
   "metadata": {
    "colab_type": "text",
    "id": "8b_Xr9p-tJhC"
   },
   "source": [
    "# **Welcome to Python Crash Course**\n",
    "[Organized by Women Promoting Science to the Younger Generation (WPSYG](https://twitter.com/wpsyg)\n",
    "\n",
    "Organized by Women Promoting Science to the Younger Generation\n",
    "\n",
    "**Course Content Creators**: [Sokhar Samb](https://twitter.com/SambSokhar), Foutse, Deborah D Kanubala, Faith Benson, Salomey Osei, Yolande Ngueabou, Deo Byabazaire, Bernard Osei, Elkanah Nyabuto.\n",
    "\n",
    "\n",
    "\n",
    "\n",
    "**Course Reviewer:** [Salomon Kabongo](https://twitter.com/SalomonKabongo1)\n",
    "\n"
   ]
  },
  {
   "cell_type": "markdown",
   "metadata": {},
   "source": [
    "# What is WPSYG?\n",
    "WPSYG is an association that is focused on igniting and sustaining the interest of the youth in general and girls in particular in mathematics and science with the aim of getting them to develop careers in this field to enable them compete globally and solve the local development challenges in their communities."
   ]
  },
  {
   "cell_type": "markdown",
   "metadata": {},
   "source": [
    "The goal of AIMS-WPSYG is to build and sustain the interest of the youth and females in particular in Africa in mathematics and science with the sole aim of getting them to pursue careers in this field for the overall development of the African continent. "
   ]
  },
  {
   "cell_type": "markdown",
   "metadata": {},
   "source": [
    "# How to became member of WPSYG?\n",
    "\n",
    "https://docs.google.com/forms/d/e/1FAIpQLSc_IVVi1oZ5TZpUJOPwYH3a5kNEuFEPXuFmjot2Z44V4n6Nlg/viewform\n",
    "\n",
    "Low us on:\n",
    "\n",
    "Twitter:  https://twitter.com/wpsyg\n",
    "\n",
    "LinkdIn:  https://www.linkedin.com/in/women-promoting-science-to-the-younger-association-661a5317b/\n",
    "\n",
    "Facebook: https://www.facebook.com/WPSYG-297667807564380\n"
   ]
  },
  {
   "cell_type": "markdown",
   "metadata": {
    "colab_type": "text",
    "id": "vx8Z1ck13bVf"
   },
   "source": [
    "## Tutorial Objectives:\n",
    "\n",
    "For this course, you will be introduced to the Python programming language and we will be walking through different tutorials in a step-by-step fashion. There will be break-out sessions where you can get comfortable with what you have learnt. This will ensure you fully understand the various aspects of the tutorial and you will be able to ask your questions in those rooms. In this course, you will perform arithmetic operations on numbers, import python packages for solving different programming problems and also get creative in solving some specific tasks. "
   ]
  },
  {
   "cell_type": "markdown",
   "metadata": {},
   "source": [
    "This will be a 2 day course. Today's tutorial would focus on:\n",
    "\n",
    "### Day 1\n",
    "> Need to change the  link above with colab link to specific part of the course \n",
    "1. [Python Arithmetic operations]()\n",
    "\n",
    "2. [Manipulating lists, tuples and dictionaries]()\n",
    "\n",
    "3. [Writing Functions and loops]()\n",
    "\n",
    "### Day 2\n",
    "4. [Numpy]()\n",
    "\n",
    "5. [Pandas]()\n",
    "\n",
    "6. [Matplotlib]()"
   ]
  },
  {
   "cell_type": "markdown",
   "metadata": {},
   "source": [
    "# What is Python?<img src=\"https://upload.wikimedia.org/wikipedia/commons/c/c3/Python-logo-notext.svg\">\n"
   ]
  },
  {
   "cell_type": "markdown",
   "metadata": {},
   "source": [
    "Python is developed by Guido van Rossum. Guido van Rossum started implementing Python in 1989. Python is a very simple programming language so even if you are new to programming, you can learn python without facing any"
   ]
  },
  {
   "cell_type": "markdown",
   "metadata": {},
   "source": [
    "# What can we do with python?"
   ]
  },
  {
   "cell_type": "markdown",
   "metadata": {
    "colab": {},
    "colab_type": "code",
    "id": "fu1G7XxxxNbS"
   },
   "source": [
    "You may be wondering what all are the applications of Python. There are so many applications of Python, here are some of the them.\n",
    "1. Web development – Web framework like Django and Flask are based on Python. They help you write server side code which helps you manage database, write backend programming logic, mapping urls etc.\n",
    "\n",
    "2. Machine learning – There are many machine learning applications written in Python. Machine learning is a way to write a logic so that a machine can learn and solve a particular problem on its own. For example, products recommendation in websites like Amazon, Flipkart, eBay etc. is a machine learning algorithm that recognises user’s interest. Face recognition and Voice recognition in your phone is another example of machine learning.\n",
    "\n",
    "3. Data Analysis – Data analysis and data visualisation in form of charts can also be developed using Python."
   ]
  }
 ],
 "metadata": {
  "colab": {
   "collapsed_sections": [],
   "name": "Introduction.ipynb",
   "provenance": []
  },
  "kernelspec": {
   "display_name": "Python 3",
   "language": "python",
   "name": "python3"
  },
  "language_info": {
   "codemirror_mode": {
    "name": "ipython",
    "version": 3
   },
   "file_extension": ".py",
   "mimetype": "text/x-python",
   "name": "python",
   "nbconvert_exporter": "python",
   "pygments_lexer": "ipython3",
   "version": "3.7.3"
  }
 },
 "nbformat": 4,
 "nbformat_minor": 4
}
