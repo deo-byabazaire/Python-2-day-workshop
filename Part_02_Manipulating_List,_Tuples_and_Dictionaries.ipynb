{
 "cells": [
  {
   "cell_type": "markdown",
   "metadata": {},
   "source": [
    "<a href=\"https://colab.research.google.com/github/WPSYG/Python-2-day-workshop/blob/master/Part_02_Manipulating_List,_Tuples_and_Dictionaries.ipynb\" target=\"_parent\"><img src=\"https://colab.research.google.com/assets/colab-badge.svg\" alt=\"Open In Colab\"/></a>"
   ]
  },
  {
   "cell_type": "markdown",
   "metadata": {
    "colab_type": "text",
    "id": "Y7isDkFOtG8W"
   },
   "source": [
    "<img src=\"https://raw.githubusercontent.com/WPSYG/Python-2-day-workshop/master/images/logo_color_v1.jpeg?token=AIW35UAKBBELC5SYDUECSYC7HQ4FW\">"
   ]
  },
  {
   "cell_type": "markdown",
   "metadata": {
    "colab_type": "text",
    "id": "RM3zqGNz5Jbh"
   },
   "source": [
    "# Manipulating List, Tuples and Dictionaries"
   ]
  },
  {
   "cell_type": "markdown",
   "metadata": {
    "colab_type": "text",
    "id": "WXoP8aVSRneb"
   },
   "source": [
    "This part of the tutorial cover basic object in python such as lists, tuples and dictionaries. You will learn to define and manupilate data structures/objects in Python. This can improve how you store information for your own analysis."
   ]
  },
  {
   "cell_type": "markdown",
   "metadata": {
    "colab_type": "text",
    "id": "94XgYxv-Szoo"
   },
   "source": [
    "### Lists\n",
    "> A list is an ordered collection of arbitrary objects between the square brackets i.e [].\n",
    "We can define a list of strings, a list of numbers, a list having both names and numbers or containing other lists in it."
   ]
  },
  {
   "cell_type": "markdown",
   "metadata": {
    "colab_type": "text",
    "id": "ztBj1pgPCs32"
   },
   "source": [
    "**Creating a list**"
   ]
  },
  {
   "cell_type": "code",
   "execution_count": 3,
   "metadata": {
    "colab": {
     "base_uri": "https://localhost:8080/",
     "height": 68
    },
    "colab_type": "code",
    "id": "XNYdBl1iCpMA",
    "outputId": "ff40dbb7-66be-419f-a8ef-896240ae8c0a"
   },
   "outputs": [
    {
     "name": "stdout",
     "output_type": "stream",
     "text": [
      "Names: <class 'list'> \n",
      "\n",
      "['Deo', 'Moses', 'Deb', 'Bernard', 'Theo', 'Matthias']\n"
     ]
    }
   ],
   "source": [
    "#list of strings\n",
    "\n",
    "list_of_names=[\"Deo\",\"Moses\",\"Deb\",\"Bernard\",\"Theo\",\"Matthias\"]\n",
    "\n",
    "print(\"Names:\",type(list_of_names),\"\\n\")\n",
    "#print(len(list_of_names))\n",
    "\n",
    "print(list_of_names)"
   ]
  },
  {
   "cell_type": "markdown",
   "metadata": {},
   "source": [
    "- type() is a function that displays the type of object/data structure. In this example, the type of object is a **list**"
   ]
  },
  {
   "cell_type": "code",
   "execution_count": 4,
   "metadata": {
    "colab": {
     "base_uri": "https://localhost:8080/",
     "height": 68
    },
    "colab_type": "code",
    "id": "n9FkzbH1CpRQ",
    "outputId": "27893661-fe8c-4d49-e3dd-423015c698d2"
   },
   "outputs": [
    {
     "name": "stdout",
     "output_type": "stream",
     "text": [
      "list_of_numbers: <class 'list'> \n",
      "\n",
      "[2, 5, 7, 11, 13, 17, 19, 23]\n"
     ]
    }
   ],
   "source": [
    "# list of numbers\n",
    "\n",
    "list_of_numbers=[2,5,7,11,13,17,19,23]\n",
    "\n",
    "print(\"list_of_numbers:\", type(list_of_numbers),\"\\n\")\n",
    "\n",
    "print(list_of_numbers)"
   ]
  },
  {
   "cell_type": "markdown",
   "metadata": {},
   "source": [
    "- List can store numbers, strings, and even other objects such as lists"
   ]
  },
  {
   "cell_type": "markdown",
   "metadata": {
    "colab_type": "text",
    "id": "gftwpyoEKHON"
   },
   "source": [
    "Important thing about a list is that items in a list need not be of the same type."
   ]
  },
  {
   "cell_type": "code",
   "execution_count": 5,
   "metadata": {
    "colab": {
     "base_uri": "https://localhost:8080/",
     "height": 68
    },
    "colab_type": "code",
    "id": "1BFfh4s2CpZm",
    "outputId": "1df24459-aff3-4d19-826c-5692b81fe976"
   },
   "outputs": [
    {
     "name": "stdout",
     "output_type": "stream",
     "text": [
      "list_of_mixture: <class 'list'> \n",
      "\n",
      "[1, 3, 5, 'Dog', 'Pig', ['Deo', 'Moses', 'Deb', 'Bernard', 'Theo', 'Matthias'], [2, 5, 7, 11, 13, 17, 19, 23]]\n"
     ]
    }
   ],
   "source": [
    "#list of both numbers and strings\n",
    "\n",
    "list_of_mixture=[1,3,5,\"Dog\",\"Pig\",list_of_names,list_of_numbers]\n",
    "\n",
    "print(\"list_of_mixture:\",type(list_of_mixture),\"\\n\")\n",
    "\n",
    "print(list_of_mixture)"
   ]
  },
  {
   "cell_type": "markdown",
   "metadata": {
    "colab_type": "text",
    "id": "9LKKe9izDxOs"
   },
   "source": [
    "**List indexing or access**\n",
    "\n",
    "You can get an item by referring to its position in the list, a number called the index. The first index is zero, the second index is one, and so forth."
   ]
  },
  {
   "cell_type": "code",
   "execution_count": 1,
   "metadata": {
    "colab": {
     "base_uri": "https://localhost:8080/",
     "height": 119
    },
    "colab_type": "code",
    "id": "-3ebS0MACpW9",
    "outputId": "fe588c10-59de-4fc5-9fe8-b0bf564ed139"
   },
   "outputs": [
    {
     "name": "stdout",
     "output_type": "stream",
     "text": [
      "Deo \n",
      "\n",
      "2 \n",
      "\n",
      "1 \n",
      "\n"
     ]
    }
   ],
   "source": [
    "#Getting the first item in the list\n",
    "list_of_names=[\"Deo\",\"Moses\",\"Deb\",\"Bernard\",\"Theo\",\"Matthias\"]\n",
    "print(list_of_names[0],\"\\n\")\n",
    "\n",
    "list_of_numbers=[2,5,7,11,13,17,19,23]\n",
    "print(list_of_numbers[0],\"\\n\")\n",
    "\n",
    "list_of_mixture=[1,3,5,\"Dog\",\"Pig\",list_of_names,list_of_numbers]\n",
    "print(list_of_mixture[0],\"\\n\")"
   ]
  },
  {
   "cell_type": "code",
   "execution_count": 2,
   "metadata": {
    "colab": {
     "base_uri": "https://localhost:8080/",
     "height": 119
    },
    "colab_type": "code",
    "id": "ZjR_oIDlCpUp",
    "outputId": "273ade54-cd84-4d0f-9062-6700a01fd2d2"
   },
   "outputs": [
    {
     "name": "stdout",
     "output_type": "stream",
     "text": [
      "Matthias \n",
      "\n",
      "23 \n",
      "\n",
      "[2, 5, 7, 11, 13, 17, 19, 23] \n",
      "\n"
     ]
    }
   ],
   "source": [
    "#Getting the last item\n",
    "list_of_names=[\"Deo\",\"Moses\",\"Deb\",\"Bernard\",\"Theo\",\"Matthias\"]\n",
    "print(list_of_names[-1],\"\\n\")\n",
    "\n",
    "list_of_numbers=[2,5,7,11,13,17,19,23]\n",
    "print(list_of_numbers[-1],\"\\n\")\n",
    "\n",
    "list_of_mixture=[1,3,5,\"Dog\",\"Pig\",list_of_names,list_of_numbers]\n",
    "print(list_of_mixture[-1],\"\\n\")"
   ]
  },
  {
   "cell_type": "code",
   "execution_count": 4,
   "metadata": {
    "colab": {
     "base_uri": "https://localhost:8080/",
     "height": 34
    },
    "colab_type": "code",
    "id": "5jJFjVesCpPa",
    "outputId": "50b4925d-a134-4828-c582-e175fa199d94"
   },
   "outputs": [
    {
     "name": "stdout",
     "output_type": "stream",
     "text": [
      "[1, 3, 5, 'Dog', 'Pig', ['Deo', 'Moses', 'Deb', 'Bernard', 'Theo', 'Matthias'], [2, 5, 7, 11, 13, 17, 19, 23]] \n",
      "\n",
      "Bernard\n"
     ]
    }
   ],
   "source": [
    "#Getting an item in a list inside a list\n",
    "list_of_mixture=[1,3,5,\"Dog\",\"Pig\",list_of_names,list_of_numbers]\n",
    "print(list_of_mixture, \"\\n\")\n",
    "\n",
    "print(list_of_mixture[5][3])"
   ]
  },
  {
   "cell_type": "markdown",
   "metadata": {
    "colab_type": "text",
    "id": "nk97FEq_OXeL"
   },
   "source": [
    "**Slicing**\n",
    "\n",
    "As we show, indexing *allows* you to access, change, delete only a single cell of a list. What if we want to get a sublist of the list. Or we want to update a bunch of cells at once? Or we want to go on a frenzy and extend a list with an arbitrary number of new cells in any position?"
   ]
  },
  {
   "cell_type": "code",
   "execution_count": 5,
   "metadata": {
    "colab": {
     "base_uri": "https://localhost:8080/",
     "height": 85
    },
    "colab_type": "code",
    "id": "U3iUNnJzOT-B",
    "outputId": "e50d8fab-fa50-416a-d89c-a4e8efa10685"
   },
   "outputs": [
    {
     "name": "stdout",
     "output_type": "stream",
     "text": [
      "[7, 11, 13]\n",
      "[2, 5, 7]\n",
      "[17, 19, 23]\n",
      "[2, 5, 7, 11, 13, 17, 19, 23]\n"
     ]
    }
   ],
   "source": [
    "# elements 3rd to 5th\n",
    "list_of_numbers=[2,5,7,11,13,17,19,23]\n",
    "\n",
    "print(list_of_numbers[2:5])\n",
    "\n",
    "# elements beginning to 4th\n",
    "print(list_of_numbers[:-5])\n",
    "\n",
    "# elements 6th to end\n",
    "print(list_of_numbers[5:])\n",
    "\n",
    "# elements beginning to end\n",
    "print(list_of_numbers[:])"
   ]
  },
  {
   "cell_type": "markdown",
   "metadata": {
    "colab_type": "text",
    "id": "zaudgmhLFRFR"
   },
   "source": [
    "A list can be modified i.e adding items, removing items, inserting items etc. We use concepts like append, remove, insert etc to modify the list.\n"
   ]
  },
  {
   "cell_type": "markdown",
   "metadata": {
    "colab_type": "text",
    "id": "3B-OcNpVHenM"
   },
   "source": [
    "**Appending items**\n",
    "\n",
    "You can add an item to the end of the list with append()"
   ]
  },
  {
   "cell_type": "code",
   "execution_count": 10,
   "metadata": {
    "colab": {
     "base_uri": "https://localhost:8080/",
     "height": 153
    },
    "colab_type": "code",
    "id": "de_VmhocFKwr",
    "outputId": "4514c532-9e7b-4d64-d6df-3779d86b2c83"
   },
   "outputs": [
    {
     "name": "stdout",
     "output_type": "stream",
     "text": [
      "list_of_names before: ['Deo', 'Moses', 'Deb', 'Bernard', 'Theo', 'Matthias'] \n",
      "\n",
      "list_of_names after: ['Deo', 'Moses', 'Deb', 'Bernard', 'Theo', 'Matthias', 'Sokhar'] \n",
      "\n",
      "list_of_numbers before: [2, 5, 7, 11, 13, 17, 19, 23] \n",
      "\n",
      "list_of_numbers after: [2, 5, 7, 11, 13, 17, 19, 23, 27] \n",
      "\n"
     ]
    }
   ],
   "source": [
    "#Adding more items in the list\n",
    "\n",
    "print(\"list_of_names before:\",list_of_names, \"\\n\")\n",
    "\n",
    "list_of_names.append(\"Sokhar\")\n",
    "\n",
    "print(\"list_of_names after:\",list_of_names, \"\\n\")\n",
    "\n",
    "\n",
    "print(\"list_of_numbers before:\",list_of_numbers, \"\\n\")\n",
    "\n",
    "list_of_numbers.append(27)\n",
    "\n",
    "print(\"list_of_numbers after:\",list_of_numbers, \"\\n\")\n",
    "\n"
   ]
  },
  {
   "cell_type": "markdown",
   "metadata": {
    "colab_type": "text",
    "id": "T1neaQ2RJLIm"
   },
   "source": [
    "**Inserting an item in a list**\n",
    "\n",
    "insert() is an inbuilt function in Python that inserts a given element at a given index in a list."
   ]
  },
  {
   "cell_type": "code",
   "execution_count": 11,
   "metadata": {
    "colab": {
     "base_uri": "https://localhost:8080/",
     "height": 85
    },
    "colab_type": "code",
    "id": "Ezoec9cCJHzD",
    "outputId": "55a2bc81-3453-48f3-8e1c-a8491ecb1d29"
   },
   "outputs": [
    {
     "name": "stdout",
     "output_type": "stream",
     "text": [
      "list_of_names before: ['Deo', 'Moses', 'Deb', 'Bernard', 'Theo', 'Matthias', 'Sokhar'] \n",
      "\n",
      "list_of_names after: ['Deo', 'Sokhar', 'Moses', 'Deb', 'Bernard', 'Theo', 'Matthias', 'Sokhar'] \n",
      "\n"
     ]
    }
   ],
   "source": [
    "print(\"list_of_names before:\",list_of_names, \"\\n\")\n",
    "\n",
    "#insert an item\n",
    "list_of_names.insert(1,\"Sokhar\")\n",
    "\n",
    "print(\"list_of_names after:\",list_of_names, \"\\n\")\n"
   ]
  },
  {
   "cell_type": "markdown",
   "metadata": {
    "colab_type": "text",
    "id": "X3cbDICJMWr8"
   },
   "source": [
    "**Replacing items in the list**\n",
    "\n"
   ]
  },
  {
   "cell_type": "code",
   "execution_count": 12,
   "metadata": {
    "colab": {
     "base_uri": "https://localhost:8080/",
     "height": 85
    },
    "colab_type": "code",
    "id": "k3WTUoLPMab2",
    "outputId": "898946fb-6d00-45a3-ad3e-129d4970f8a4"
   },
   "outputs": [
    {
     "name": "stdout",
     "output_type": "stream",
     "text": [
      "list_of_names before: ['Deo', 'Moses', 'Deb', 'Bernard', 'Theo', 'Matthias'] \n",
      "\n",
      "list_of_names after: ['Deo', 'Moses', 'Deborah', 'Bernard', 'Theo', 'Matthias'] \n",
      "\n"
     ]
    }
   ],
   "source": [
    "list_of_names=[\"Deo\",\"Moses\",\"Deb\",\"Bernard\",\"Theo\",\"Matthias\"]\n",
    "\n",
    "print(\"list_of_names before:\",list_of_names, \"\\n\")\n",
    "\n",
    "list_of_names[2] = \"Deborah\"\n",
    "\n",
    "print(\"list_of_names after:\",list_of_names, \"\\n\")"
   ]
  },
  {
   "cell_type": "markdown",
   "metadata": {
    "colab_type": "text",
    "id": "k2OGSQD2UGi_"
   },
   "source": [
    "## Tuples\n",
    "\n",
    "> A tuple is a collection of objects which are ordered and immutable. Tuples are sequences, just like lists. The differences between tuples and lists are, the tuples cannot be changed unlike lists and tuples use parentheses (), whereas lists use square brackets"
   ]
  },
  {
   "cell_type": "markdown",
   "metadata": {
    "colab_type": "text",
    "id": "9KWMhX2pTVMR"
   },
   "source": [
    "**Creating a tuple**\n",
    "\n",
    "> Creating a tuple is as simple as putting different comma-separated values. Optionally you can put these comma-separated values between parentheses also. For example −"
   ]
  },
  {
   "cell_type": "code",
   "execution_count": 4,
   "metadata": {
    "colab": {
     "base_uri": "https://localhost:8080/",
     "height": 119
    },
    "colab_type": "code",
    "id": "CJzHcDrzTbvc",
    "outputId": "9ec880bb-054d-41d6-974a-5b9063085111"
   },
   "outputs": [
    {
     "name": "stdout",
     "output_type": "stream",
     "text": [
      "type: <class 'tuple'> \n",
      "\n",
      "tuple_of_numbers: ('Deo', 'Moses', 'Deb', 'Bernard', 'Theo', 'Matthias') \n",
      "\n",
      "tuple_of_numbers: (2, 5, 7, 11, 13, 17, 19, 23) \n",
      "\n",
      "('Deb', 'Bernard', 'Theo')\n"
     ]
    }
   ],
   "source": [
    "#Tuple of strings\n",
    "\n",
    "tuple_of_string=(\"Deo\",\"Moses\",\"Deb\",\"Bernard\",\"Theo\",\"Matthias\")\n",
    "\n",
    "tuple_of_numbers=(2,5,7,11,13,17,19,23)\n",
    "\n",
    "\n",
    "print(\"type:\",type(tuple_of_string),\"\\n\")\n",
    "\n",
    "print(\"tuple_of_numbers:\",tuple_of_string,\"\\n\")\n",
    "print(\"tuple_of_numbers:\",tuple_of_numbers,\"\\n\")\n",
    "\n"
   ]
  },
  {
   "cell_type": "markdown",
   "metadata": {
    "colab_type": "text",
    "id": "XHSKWfh9Vkar"
   },
   "source": [
    "Tuples are immutable which means you cannot update or change the values of tuple elements. You are able to take portions of existing tuples to create new tuples as the following example demonstrates "
   ]
  },
  {
   "cell_type": "code",
   "execution_count": 14,
   "metadata": {
    "colab": {
     "base_uri": "https://localhost:8080/",
     "height": 282
    },
    "colab_type": "code",
    "id": "EjMXJ_TuVoJ1",
    "outputId": "d978fd09-0748-4147-a419-5073ab45f714"
   },
   "outputs": [
    {
     "name": "stdout",
     "output_type": "stream",
     "text": [
      "tuple_of_string: ('Deo', 'Moses', 'Deb', 'Bernard', 'Theo', 'Matthias') \n",
      "\n",
      "tuple_of_numbers: 2 \n",
      "\n"
     ]
    },
    {
     "ename": "NameError",
     "evalue": "name 'tuple_of_names' is not defined",
     "output_type": "error",
     "traceback": [
      "\u001b[0;31m---------------------------------------------------------------------------\u001b[0m",
      "\u001b[0;31mNameError\u001b[0m                                 Traceback (most recent call last)",
      "\u001b[0;32m<ipython-input-14-9c2e20bb03f1>\u001b[0m in \u001b[0;36m<module>\u001b[0;34m()\u001b[0m\n\u001b[1;32m      4\u001b[0m \u001b[0;34m\u001b[0m\u001b[0m\n\u001b[1;32m      5\u001b[0m \u001b[0;31m# Following action is not valid for tuples\u001b[0m\u001b[0;34m\u001b[0m\u001b[0;34m\u001b[0m\u001b[0;34m\u001b[0m\u001b[0m\n\u001b[0;32m----> 6\u001b[0;31m \u001b[0mtuple_of_names\u001b[0m\u001b[0;34m[\u001b[0m\u001b[0;36m0\u001b[0m\u001b[0;34m]\u001b[0m \u001b[0;34m=\u001b[0m \u001b[0;34m\"Faith\"\u001b[0m\u001b[0;34m\u001b[0m\u001b[0;34m\u001b[0m\u001b[0m\n\u001b[0m",
      "\u001b[0;31mNameError\u001b[0m: name 'tuple_of_names' is not defined"
     ]
    }
   ],
   "source": [
    "print(\"tuple_of_string:\",tuple_of_string,\"\\n\")\n",
    "\n",
    "print(\"tuple_of_numbers:\",tuple_of_numbers[0],\"\\n\")\n",
    "\n",
    "# Following action is not valid for tuples\n",
    "tuple_of_names[0] = \"Faith\""
   ]
  },
  {
   "cell_type": "markdown",
   "metadata": {
    "colab_type": "text",
    "id": "0tpZ0KnUULbw"
   },
   "source": [
    "## Dictionaries\n",
    "\n",
    "\n",
    "Dictionaries are also what they sound like - a list of definitions that correspond to unique terms.\n",
    "\n",
    "Dictionaries are unordered\n",
    "\n",
    "Dictionary values are accessed by keys\n",
    "\n",
    "Keys and values are to a dictionary what words and their definitions are to an English dictionary. \n",
    "\n",
    "Each entry in a dictionary is called a key-value pair. \n",
    "\n",
    "Dictionaries and lists share the following characteristics:\n",
    "\n",
    "Both are mutable.\n",
    "\n",
    "\n",
    "\n",
    "\n",
    "* Both are dynamic. They can grow and shrink as needed.\n",
    "* Both can be nested. \n",
    "* A list can contain another list. A dictionary can contain another dictionary. \n",
    "* A dictionary can also contain a list, and vice versa.\n",
    "\n",
    "Dictionaries differ from lists primarily in how elements are accessed:\n",
    "\n",
    "List elements are accessed by their position in the list, via indexing, dictionary elements are accessed via keys.\n",
    "\n",
    "**To create a dictionary, use curly braces, a colon (:) separates each key from its associated value**\n",
    "\n",
    "\n",
    "**Note** Dictionary keys are case sensitive, same name but different cases of Key will be treated distinctly.\n"
   ]
  },
  {
   "cell_type": "code",
   "execution_count": 13,
   "metadata": {
    "colab": {},
    "colab_type": "code",
    "id": "LnTmxDAeXaH2"
   },
   "outputs": [
    {
     "name": "stdout",
     "output_type": "stream",
     "text": [
      "keys of the dictionary : dict_keys(['Ghana', 'Senegal', 'Cameroon', 'Kenya'])\n",
      "keys of the dictionary : dict_items([('Ghana', 31072940), ('Senegal', 16743927), ('Cameroon', 26545863), ('Kenya', 53771296)])\n"
     ]
    }
   ],
   "source": [
    "country_population = {\n",
    "    'Ghana': 31072940,\n",
    "    'Senegal': 16743927,\n",
    "    'Cameroon': 26545863,\n",
    "    'Kenya': 53771296,\n",
    "    \n",
    "}\n",
    "print(\"keys of the dictionary :\", country_population.items()) \n",
    "\n",
    "print(\"keys of the dictionary :\", country_population.keys()) \n"
   ]
  },
  {
   "cell_type": "markdown",
   "metadata": {
    "colab_type": "text",
    "id": "-zBxxwpNyF9c"
   },
   "source": [
    "Dictionary can also be created by the built-in function dict(). An empty dictionary can be created by just placing to curly braces{}."
   ]
  },
  {
   "cell_type": "code",
   "execution_count": null,
   "metadata": {
    "colab": {
     "base_uri": "https://localhost:8080/",
     "height": 68
    },
    "colab_type": "code",
    "id": "O-pzi-Q2yIdJ",
    "outputId": "6f821234-017c-48ae-cda0-6aef74ca3b31"
   },
   "outputs": [],
   "source": [
    "Dict = dict({'Ghana': 31072940, \n",
    "             'Senegal':16743927, \n",
    "             'Cameroon':26545863, \n",
    "             'Kenya':53771296\n",
    "             }) \n",
    "print(\"\\nDictionary with the use of dict(): \") \n",
    "print(Dict) \n",
    "  "
   ]
  },
  {
   "cell_type": "markdown",
   "metadata": {
    "colab_type": "text",
    "id": "E1znKq1bXmqf"
   },
   "source": [
    "**Accessing elements of a Dictionary**\n",
    "\n",
    "Say you want to know the population of Ghana. Similarly to a list, you can use brackets to access the value, but this time with the key (instead of the index):\n",
    "\n"
   ]
  },
  {
   "cell_type": "code",
   "execution_count": null,
   "metadata": {
    "colab": {
     "base_uri": "https://localhost:8080/",
     "height": 34
    },
    "colab_type": "code",
    "id": "u5SyYRPMXaMN",
    "outputId": "5365178f-edb1-4059-dfd2-a5e15d7a81e2"
   },
   "outputs": [],
   "source": [
    "country_population['Ghana']"
   ]
  },
  {
   "cell_type": "markdown",
   "metadata": {
    "colab_type": "text",
    "id": "hWLiixeGecAM"
   },
   "source": [
    "In dictionaries, keys are unique. This means that there can only be one \"Kenya\" in the city_population dictionary, just as there can only be one Supercalifragilisticexpialidocious entry in the English dictionary.\n",
    "\n",
    "Let's add another big city to the dictionary. To do this, you'll need to assign a value to a key that doesn't yet exist:"
   ]
  },
  {
   "cell_type": "code",
   "execution_count": null,
   "metadata": {
    "colab": {},
    "colab_type": "code",
    "id": "roY-eUk3XaKl"
   },
   "outputs": [],
   "source": [
    "country_population['Rwanda'] = 12985066\n",
    "\n"
   ]
  },
  {
   "cell_type": "markdown",
   "metadata": {
    "colab_type": "text",
    "id": "mOKKd5lNUp3p"
   },
   "source": [
    "### Removing Elements from Dictionary\n",
    "In Python Dictionary, deletion of keys can be done by using the del keyword. Using del keyword, specific values from a dictionary as well as whole dictionary can be deleted. Items in a Nested dictionary can also be deleted by using del keyword and providing specific nested key and particular key to be deleted from that nested Dictionary.\n",
    "\n",
    "Note- del Dict will delete the entire dictionary and hence printing it after deletion will raise an Error.\n"
   ]
  },
  {
   "cell_type": "code",
   "execution_count": null,
   "metadata": {
    "colab": {
     "base_uri": "https://localhost:8080/",
     "height": 153
    },
    "colab_type": "code",
    "id": "DJgo4IUCUo0F",
    "outputId": "8f0660c1-ee01-49bb-d0e2-b44f06a4d708"
   },
   "outputs": [],
   "source": [
    "Dict = { 5 : 'Welcome', 6 : 'To', 7 : 'python', \n",
    "        'A' : {1 : 'python', 2 : 'For', 3 : 'python'}, \n",
    "        'B' : {1 : 'python', 2 : 'coding'}} \n",
    "print(\"Initial Dictionary: \") \n",
    "print(Dict) \n",
    "  \n",
    "del Dict[6]\n",
    "print(\"\\nDeleting a specific key: \") \n",
    "print(Dict) \n",
    "  \n",
    "\n",
    "del Dict['A'][2] \n",
    "print(\"\\nDeleting a key from Nested Dictionary: \") \n",
    "print(Dict) "
   ]
  },
  {
   "cell_type": "code",
   "execution_count": null,
   "metadata": {},
   "outputs": [],
   "source": []
  },
  {
   "cell_type": "markdown",
   "metadata": {},
   "source": [
    "## Exercice1\n",
    "* create a list name students [\"Saffia\", \"Olivia\",\"\tIsabella\",\"James\",\"\tWilliam\"]\n",
    "* how many student are in the list?\n",
    "* print the name of the first student \n",
    "* print the name of the 3 first student\n",
    "* print the name of the last student\n",
    "* relace the name of the third student by \"Eva\""
   ]
  },
  {
   "cell_type": "code",
   "execution_count": 39,
   "metadata": {},
   "outputs": [],
   "source": [
    "#write your code here\n",
    "def print_first_student():\n",
    "    #FILL here (1 line)\n",
    "\n"
   ]
  },
  {
   "cell_type": "code",
   "execution_count": 42,
   "metadata": {},
   "outputs": [
    {
     "name": "stdout",
     "output_type": "stream",
     "text": [
      "print_first_student() function is Correct\n"
     ]
    }
   ],
   "source": [
    "print(\"print_first_student() function is Correct\") if print_first_student() == \"Saffia\" else 'Something Wrong'"
   ]
  },
  {
   "cell_type": "markdown",
   "metadata": {},
   "source": [
    "### Exercice2\n",
    "In this exercice we will transform the list created in exercice1 in to a dictionary where the keys are the names of the students and the associated values are the marks of the students in a python quiz.\n",
    "* create a ditionary called python_quiz with the keys: \"Saffia\", \"Olivia\",\" Isabella\",\"James\",\" William\" and the marks are 12,15,16,9,19 respectively\n",
    "* What is Safiia's mark for the python quiz?\n",
    "After feeling all the marks for all the students, we realized that there is a mistake, Olivia has 16 instead of 15.\n",
    "* change the mark of Olivia to 16\n",
    "Now let's do some calculation on our dictionary\n",
    "* Calculate the mean of the class\n",
    "\n"
   ]
  },
  {
   "cell_type": "code",
   "execution_count": null,
   "metadata": {},
   "outputs": [],
   "source": []
  },
  {
   "cell_type": "markdown",
   "metadata": {
    "colab_type": "text",
    "id": "_4Kb9Ld0tNYI"
   },
   "source": [
    "___\n",
    "**Course Content Creators**: [Sokhar Samb](https://twitter.com/SambSokhar), Foutse, Deborah D Kanubala, Faith Benson, Salomey Osei, Yolande Ngueabou, [Deo Byabazaire](https://www.linkedin.com/feed/), Bernard Osei, Elkanah Nyabuto.\n",
    "\n",
    "\n",
    "\n",
    "\n",
    "**Course Reviewer:** [Salomon Kabongo](https://twitter.com/SalomonKabongo1)"
   ]
  },
  {
   "cell_type": "code",
   "execution_count": null,
   "metadata": {},
   "outputs": [],
   "source": []
  }
 ],
 "metadata": {
  "colab": {
   "name": "Part 02: Manipulating List, Tuples and Dictionaries.ipynb",
   "provenance": []
  },
  "kernelspec": {
   "display_name": "Python 3",
   "language": "python",
   "name": "python3"
  },
  "language_info": {
   "codemirror_mode": {
    "name": "ipython",
    "version": 3
   },
   "file_extension": ".py",
   "mimetype": "text/x-python",
   "name": "python",
   "nbconvert_exporter": "python",
   "pygments_lexer": "ipython3",
   "version": "3.7.3"
  }
 },
 "nbformat": 4,
 "nbformat_minor": 4
}
